{
 "cells": [
  {
   "cell_type": "code",
   "execution_count": 3,
   "metadata": {},
   "outputs": [],
   "source": [
    "import pandas as pd\n",
    "import os"
   ]
  },
  {
   "cell_type": "code",
   "execution_count": 258,
   "metadata": {},
   "outputs": [],
   "source": [
    "KEGG_DB_LOC = '/data11/bio/databases/kegg/'\n",
    "GEN_LOC = '/data11/bio/databases/KEGG_HUMANN2_BREWED'"
   ]
  },
  {
   "cell_type": "code",
   "execution_count": 256,
   "metadata": {},
   "outputs": [
    {
     "name": "stderr",
     "output_type": "stream",
     "text": [
      "/home/fedorov/miniconda3/envs/notebook/lib/python3.6/site-packages/pandas/core/indexing.py:576: SettingWithCopyWarning: \n",
      "A value is trying to be set on a copy of a slice from a DataFrame.\n",
      "Try using .loc[row_indexer,col_indexer] = value instead\n",
      "\n",
      "See the caveats in the documentation: http://pandas.pydata.org/pandas-docs/stable/user_guide/indexing.html#returning-a-view-versus-a-copy\n",
      "  self.obj[item_labels[indexer[info_axis]]] = value\n"
     ]
    }
   ],
   "source": [
    "ko_pathway_list_loc = os.path.join(KEGG_DB_LOC, 'genes/ko/ko_pathway.list')\n",
    "\n",
    "if os.path.isfile(ko_pathway_list_loc):\n",
    "    ko_pathway_pd = pd.read_csv(ko_pathway_list_loc, header = None, sep = '\\t')\n",
    "    \n",
    "ko_pathway_only_ko_pd = ko_pathway_pd.loc[ko_pathway_pd[1].str.split(':').str[1].str.startswith('ko')]\n",
    "ko_pathway_only_ko_pd.loc[:, 0] = ko_pathway_only_ko_pd[0].str.replace('ko:', '')\n",
    "ko_pathway_only_ko_pd.loc[:, 1] = ko_pathway_only_ko_pd[1].str.replace('path:', '')\n",
    "\n",
    "kos = ko_pathway_only_ko_pd[1].unique()\n",
    "kos_w_K = {}\n",
    "for ko in kos:\n",
    "    sub = ko_pathway_only_ko_pd.loc[ko_pathway_only_ko_pd[1]== ko]\n",
    "    Ks = sub[0]\n",
    "    kos_w_K.update({ko: list(Ks)})\n",
    "    \n",
    "str_to_write = ''\n",
    "\n",
    "for k,v in kos_w_K.items():\n",
    "    str_to_write = str_to_write + k + '\\t'\n",
    "    str_to_write += '\\t'.join(v)\n",
    "    str_to_write += '\\n'\n",
    "str_to_write = str_to_write[0:-1]"
   ]
  },
  {
   "cell_type": "code",
   "execution_count": 259,
   "metadata": {},
   "outputs": [],
   "source": [
    "with open(os.path.join(GEN_LOC,'keggc'), 'x') as keggc_file:\n",
    "    keggc_file.write(str_to_write)"
   ]
  },
  {
   "cell_type": "code",
   "execution_count": 253,
   "metadata": {},
   "outputs": [],
   "source": [
    "def parse_ko(lines):\n",
    "    entry = ''\n",
    "    # First line conatins ENTRY, last line is ///\n",
    "    line = lines[0]\n",
    "    curr_line_index = 0\n",
    "    while curr_line_index < len(lines):\n",
    "        line = lines[curr_line_index]\n",
    "        if line.startswith('ENTRY'): \n",
    "            entry = line.replace('ENTRY', '').replace('KO', '').strip(' ')\n",
    "            curr_line_index += 1\n",
    "        elif line.startswith('NAME'): \n",
    "            name = line\n",
    "            curr_line_index += 1\n",
    "\n",
    "        elif line.startswith('GENES'):\n",
    "            last_gene_index = curr_line_index+1\n",
    "            # All gene lines start with whitespace, grab them\n",
    "            while lines[last_gene_index][0] == ' ':\n",
    "                last_gene_index += 1\n",
    "\n",
    "            genes = lines[curr_line_index:last_gene_index]\n",
    "            if len(genes) == 0:\n",
    "                print('!!!!!!!!!!!!! ZERO GENES')\n",
    "                print('hhj', lines[curr_line_index])\n",
    "                print(lines[last_gene_index - 1])\n",
    "            else:\n",
    "                genes[0] = genes[0].replace('GENES', '')\n",
    "                genes = [g.strip(' ') for g in genes]\n",
    "                ggs = []\n",
    "                \n",
    "                str_to_write_full = ''\n",
    "                \n",
    "                for g in genes:\n",
    "                    organism = g.split(':')[0]\n",
    "                    gene_full =  g.split(':')[1].strip(' ')\n",
    "                    genes_splitted = gene_full.split(' ')\n",
    "                    \n",
    "                    only_gene_names = [ggg.split('(')[0] for ggg in genes_splitted] \n",
    "                    for gene in only_gene_names:\n",
    "                        str_to_write_full = str_to_write_full + organism +'#'+gene+'\\t'\n",
    "                        \n",
    "                ggs = {'ENTRY': entry, 'FULL_STR': str_to_write_full}\n",
    "            curr_line_index = last_gene_index\n",
    "        else:\n",
    "            curr_line_index += 1\n",
    "            \n",
    "    return ggs\n"
   ]
  },
  {
   "cell_type": "code",
   "execution_count": 254,
   "metadata": {},
   "outputs": [],
   "source": [
    "KOS = []\n",
    "org_genes = []\n",
    "with open('/data11/bio/databases/kegg/genes/ko/ko', 'r') as ko:\n",
    "    line = ko.readline().strip('\\n')\n",
    "    while line:\n",
    "        if line.startswith('ENTRY'): \n",
    "            ko_lines = [line, ko.readline().strip('\\n')]\n",
    "            while not ko_lines[-1].startswith('///'):\n",
    "                ko_lines.append(ko.readline().strip('\\n'))\n",
    "            ggs = parse_ko(ko_lines)\n",
    "            org_genes.append(ggs)\n",
    "        line = ko.readline().strip('\\n')\n",
    "#         break\n",
    "    \n",
    "# ggs = pd.concat(org_genes)"
   ]
  },
  {
   "cell_type": "code",
   "execution_count": 255,
   "metadata": {},
   "outputs": [],
   "source": [
    "with open('/data11/bio/databases/KEGG_HUMANN2_BREWED/koc', 'w') as KOC:\n",
    "    entries_num = len(org_genes)\n",
    "    for i, entry in enumerate(org_genes):\n",
    "        full_str = entry['ENTRY'] + '\\t' + entry['FULL_STR'].rstrip('\\t')\n",
    "        if i != entries_num - 1:\n",
    "            full_str += '\\n'\n",
    "        KOC.write(full_str)"
   ]
  },
  {
   "cell_type": "code",
   "execution_count": 228,
   "metadata": {},
   "outputs": [
    {
     "name": "stdout",
     "output_type": "stream",
     "text": [
      "0.5527212619781494\n"
     ]
    }
   ],
   "source": [
    "start = time.time()\n",
    "sub = ggs_wo_rna.loc[ggs_wo_rna['ENTRY'] == entry]\n",
    "end = time.time()\n",
    "print(end-start)"
   ]
  },
  {
   "cell_type": "code",
   "execution_count": 233,
   "metadata": {},
   "outputs": [
    {
     "ename": "KeyError",
     "evalue": "'str_to_write'",
     "output_type": "error",
     "traceback": [
      "\u001b[0;31m---------------------------------------------------------------------------\u001b[0m",
      "\u001b[0;31mKeyError\u001b[0m                                  Traceback (most recent call last)",
      "\u001b[0;32m<ipython-input-233-9b214ebde4b8>\u001b[0m in \u001b[0;36m<module>\u001b[0;34m\u001b[0m\n\u001b[0;32m----> 1\u001b[0;31m \u001b[0msub\u001b[0m\u001b[0;34m.\u001b[0m\u001b[0mgroupby\u001b[0m\u001b[0;34m(\u001b[0m\u001b[0;34m'ENTRY'\u001b[0m\u001b[0;34m)\u001b[0m\u001b[0;34m.\u001b[0m\u001b[0mget_group\u001b[0m\u001b[0;34m(\u001b[0m\u001b[0;34m'str_to_write'\u001b[0m\u001b[0;34m)\u001b[0m\u001b[0;34m\u001b[0m\u001b[0;34m\u001b[0m\u001b[0m\n\u001b[0m",
      "\u001b[0;32m~/miniconda3/envs/notebook/lib/python3.6/site-packages/pandas/core/groupby/groupby.py\u001b[0m in \u001b[0;36mget_group\u001b[0;34m(self, name, obj)\u001b[0m\n\u001b[1;32m    678\u001b[0m         \u001b[0minds\u001b[0m \u001b[0;34m=\u001b[0m \u001b[0mself\u001b[0m\u001b[0;34m.\u001b[0m\u001b[0m_get_index\u001b[0m\u001b[0;34m(\u001b[0m\u001b[0mname\u001b[0m\u001b[0;34m)\u001b[0m\u001b[0;34m\u001b[0m\u001b[0;34m\u001b[0m\u001b[0m\n\u001b[1;32m    679\u001b[0m         \u001b[0;32mif\u001b[0m \u001b[0;32mnot\u001b[0m \u001b[0mlen\u001b[0m\u001b[0;34m(\u001b[0m\u001b[0minds\u001b[0m\u001b[0;34m)\u001b[0m\u001b[0;34m:\u001b[0m\u001b[0;34m\u001b[0m\u001b[0;34m\u001b[0m\u001b[0m\n\u001b[0;32m--> 680\u001b[0;31m             \u001b[0;32mraise\u001b[0m \u001b[0mKeyError\u001b[0m\u001b[0;34m(\u001b[0m\u001b[0mname\u001b[0m\u001b[0;34m)\u001b[0m\u001b[0;34m\u001b[0m\u001b[0;34m\u001b[0m\u001b[0m\n\u001b[0m\u001b[1;32m    681\u001b[0m \u001b[0;34m\u001b[0m\u001b[0m\n\u001b[1;32m    682\u001b[0m         \u001b[0;32mreturn\u001b[0m \u001b[0mobj\u001b[0m\u001b[0;34m.\u001b[0m\u001b[0mtake\u001b[0m\u001b[0;34m(\u001b[0m\u001b[0minds\u001b[0m\u001b[0;34m,\u001b[0m \u001b[0maxis\u001b[0m\u001b[0;34m=\u001b[0m\u001b[0mself\u001b[0m\u001b[0;34m.\u001b[0m\u001b[0maxis\u001b[0m\u001b[0;34m)\u001b[0m\u001b[0;34m\u001b[0m\u001b[0;34m\u001b[0m\u001b[0m\n",
      "\u001b[0;31mKeyError\u001b[0m: 'str_to_write'"
     ]
    }
   ],
   "source": [
    "sub.groupby('ENTRY').get_group('str_to_write')"
   ]
  },
  {
   "cell_type": "code",
   "execution_count": 232,
   "metadata": {},
   "outputs": [
    {
     "data": {
      "text/html": [
       "<div>\n",
       "<style scoped>\n",
       "    .dataframe tbody tr th:only-of-type {\n",
       "        vertical-align: middle;\n",
       "    }\n",
       "\n",
       "    .dataframe tbody tr th {\n",
       "        vertical-align: top;\n",
       "    }\n",
       "\n",
       "    .dataframe thead th {\n",
       "        text-align: right;\n",
       "    }\n",
       "</style>\n",
       "<table border=\"1\" class=\"dataframe\">\n",
       "  <thead>\n",
       "    <tr style=\"text-align: right;\">\n",
       "      <th></th>\n",
       "      <th>organism</th>\n",
       "      <th>gene_full</th>\n",
       "      <th>gene</th>\n",
       "      <th>ENTRY</th>\n",
       "      <th>str_to_write</th>\n",
       "    </tr>\n",
       "  </thead>\n",
       "  <tbody>\n",
       "    <tr>\n",
       "      <th>0</th>\n",
       "      <td>HSA</td>\n",
       "      <td>7358(UGDH)</td>\n",
       "      <td>7358</td>\n",
       "      <td>K00012</td>\n",
       "      <td>HSA#7358</td>\n",
       "    </tr>\n",
       "    <tr>\n",
       "      <th>1</th>\n",
       "      <td>PTR</td>\n",
       "      <td>471171(UGDH)</td>\n",
       "      <td>471171</td>\n",
       "      <td>K00012</td>\n",
       "      <td>PTR#471171</td>\n",
       "    </tr>\n",
       "    <tr>\n",
       "      <th>2</th>\n",
       "      <td>PPS</td>\n",
       "      <td>100976107(UGDH)</td>\n",
       "      <td>100976107</td>\n",
       "      <td>K00012</td>\n",
       "      <td>PPS#100976107</td>\n",
       "    </tr>\n",
       "    <tr>\n",
       "      <th>3</th>\n",
       "      <td>GGO</td>\n",
       "      <td>101137330(UGDH)</td>\n",
       "      <td>101137330</td>\n",
       "      <td>K00012</td>\n",
       "      <td>GGO#101137330</td>\n",
       "    </tr>\n",
       "    <tr>\n",
       "      <th>4</th>\n",
       "      <td>PON</td>\n",
       "      <td>100174620(UGDH)</td>\n",
       "      <td>100174620</td>\n",
       "      <td>K00012</td>\n",
       "      <td>PON#100174620</td>\n",
       "    </tr>\n",
       "    <tr>\n",
       "      <th>...</th>\n",
       "      <td>...</td>\n",
       "      <td>...</td>\n",
       "      <td>...</td>\n",
       "      <td>...</td>\n",
       "      <td>...</td>\n",
       "    </tr>\n",
       "    <tr>\n",
       "      <th>6080</th>\n",
       "      <td>VG</td>\n",
       "      <td>5364530(N712L)</td>\n",
       "      <td>5364530</td>\n",
       "      <td>K00012</td>\n",
       "      <td>VG#5364530</td>\n",
       "    </tr>\n",
       "    <tr>\n",
       "      <th>6081</th>\n",
       "      <td>VG</td>\n",
       "      <td>5470943(Z571L)</td>\n",
       "      <td>5470943</td>\n",
       "      <td>K00012</td>\n",
       "      <td>VG#5470943</td>\n",
       "    </tr>\n",
       "    <tr>\n",
       "      <th>6082</th>\n",
       "      <td>VG</td>\n",
       "      <td>5660396(C729L)</td>\n",
       "      <td>5660396</td>\n",
       "      <td>K00012</td>\n",
       "      <td>VG#5660396</td>\n",
       "    </tr>\n",
       "    <tr>\n",
       "      <th>6083</th>\n",
       "      <td>VG</td>\n",
       "      <td>918088(A609L)</td>\n",
       "      <td>918088</td>\n",
       "      <td>K00012</td>\n",
       "      <td>VG#918088</td>\n",
       "    </tr>\n",
       "    <tr>\n",
       "      <th>6084</th>\n",
       "      <td>VG</td>\n",
       "      <td>9887644(crov242)</td>\n",
       "      <td>9887644</td>\n",
       "      <td>K00012</td>\n",
       "      <td>VG#9887644</td>\n",
       "    </tr>\n",
       "  </tbody>\n",
       "</table>\n",
       "<p>6085 rows × 5 columns</p>\n",
       "</div>"
      ],
      "text/plain": [
       "     organism         gene_full       gene   ENTRY   str_to_write\n",
       "0         HSA        7358(UGDH)       7358  K00012       HSA#7358\n",
       "1         PTR      471171(UGDH)     471171  K00012     PTR#471171\n",
       "2         PPS   100976107(UGDH)  100976107  K00012  PPS#100976107\n",
       "3         GGO   101137330(UGDH)  101137330  K00012  GGO#101137330\n",
       "4         PON   100174620(UGDH)  100174620  K00012  PON#100174620\n",
       "...       ...               ...        ...     ...            ...\n",
       "6080       VG    5364530(N712L)    5364530  K00012     VG#5364530\n",
       "6081       VG    5470943(Z571L)    5470943  K00012     VG#5470943\n",
       "6082       VG    5660396(C729L)    5660396  K00012     VG#5660396\n",
       "6083       VG     918088(A609L)     918088  K00012      VG#918088\n",
       "6084       VG  9887644(crov242)    9887644  K00012     VG#9887644\n",
       "\n",
       "[6085 rows x 5 columns]"
      ]
     },
     "execution_count": 232,
     "metadata": {},
     "output_type": "execute_result"
    }
   ],
   "source": [
    "sub"
   ]
  },
  {
   "cell_type": "code",
   "execution_count": 205,
   "metadata": {},
   "outputs": [
    {
     "data": {
      "text/plain": [
       "'K00533\\tCAC#CA_C0028\\tCAE#SMB_G0028\\tCAY#CEA_G0028\\tCPE#CPE2346\\tCPF#CPF_2655\\tCPR#CPR_2341\\tCNO#NT01CX_2259\\tCBK#CLL_A0052\\tCBN#CbC4_1525\\tCBT#CLH_0034\\tCKL#CKL_2257\\tCKR#CKR_1986\\tCCB#Clocel_4097\\tCPAS#Clopa_0056\\tCPAT#CLPA_c00280\\tCPAE#CPAST_c00280\\tCSB#CLSA_c00340\\tCLT#CM240_0483\\tCBV#U729_1141\\tCBUT#ATN24_01590\\tCTYK#CTK_C05160\\tCTAE#BGI42_00165\\tCCHV#BTM20_00205\\tCIA#BEN51_00210\\tCSEP#CP523_07965\\tCDY#F3K33_11495\\tASF#SFBM_0914\\tASM#MOUSESFB_0852\\tASO#SFBmNL_00989\\tASB#RATSFB_0771\\tAG#AAA23248\\n'"
      ]
     },
     "execution_count": 205,
     "metadata": {},
     "output_type": "execute_result"
    }
   ],
   "source": [
    "entry +'\\t' + '\\t'.join(sub['str_to_write']) +'\\n'"
   ]
  }
 ],
 "metadata": {
  "kernelspec": {
   "display_name": "Python 3",
   "language": "python",
   "name": "python3"
  },
  "language_info": {
   "codemirror_mode": {
    "name": "ipython",
    "version": 3
   },
   "file_extension": ".py",
   "mimetype": "text/x-python",
   "name": "python",
   "nbconvert_exporter": "python",
   "pygments_lexer": "ipython3",
   "version": "3.6.10"
  }
 },
 "nbformat": 4,
 "nbformat_minor": 4
}
